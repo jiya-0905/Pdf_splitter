{
  "nbformat": 4,
  "nbformat_minor": 0,
  "metadata": {
    "colab": {
      "provenance": [],
      "include_colab_link": true
    },
    "kernelspec": {
      "name": "python3",
      "display_name": "Python 3"
    },
    "language_info": {
      "name": "python"
    }
  },
  "cells": [
    {
      "cell_type": "markdown",
      "metadata": {
        "id": "view-in-github",
        "colab_type": "text"
      },
      "source": [
        "<a href=\"https://colab.research.google.com/github/jiya-0905/Pdf_splitter/blob/main/splitpdf_eachpage.ipynb\" target=\"_parent\"><img src=\"https://colab.research.google.com/assets/colab-badge.svg\" alt=\"Open In Colab\"/></a>"
      ]
    },
    {
      "cell_type": "code",
      "execution_count": 10,
      "metadata": {
        "colab": {
          "base_uri": "https://localhost:8080/"
        },
        "id": "gtpWXzgUTf87",
        "outputId": "353b2dd7-2aa7-4fe1-af3b-4f57ff01c59a"
      },
      "outputs": [
        {
          "output_type": "stream",
          "name": "stdout",
          "text": [
            "Collecting PyPDF2\n",
            "  Downloading pypdf2-3.0.1-py3-none-any.whl (232 kB)\n",
            "\u001b[2K     \u001b[90m━━━━━━━━━━━━━━━━━━━━━━━━━━━━━━━━━━━━━━━━\u001b[0m \u001b[32m232.6/232.6 kB\u001b[0m \u001b[31m5.2 MB/s\u001b[0m eta \u001b[36m0:00:00\u001b[0m\n",
            "\u001b[?25hInstalling collected packages: PyPDF2\n",
            "Successfully installed PyPDF2-3.0.1\n"
          ]
        }
      ],
      "source": [
        "!pip install PyPDF2"
      ]
    },
    {
      "cell_type": "code",
      "source": [
        "import os\n",
        "from PyPDF2 import PdfReader, PdfWriter\n",
        "\n",
        "def split_pdf(input_pdf, output_dir):\n",
        "    if not os.path.exists(output_dir):\n",
        "        os.makedirs(output_dir)\n",
        "\n",
        "    pdf = PdfReader(open(input_pdf, \"rb\"))\n",
        "    total_pages = len(pdf.pages)\n",
        "    split_page = [x for x in range(1,total_pages+1)]\n",
        "    for page_num in split_page:\n",
        "      writer=PdfWriter()\n",
        "      writer.add_page(pdf.pages[page_num-1])\n",
        "      file_name=\"\".join(\"part\"+str(page_num)+\".pdf\")\n",
        "      part_filename = os.path.join(output_dir, file_name)\n",
        "      with open(part_filename, 'wb') as file_name_pdf:\n",
        "        writer.write(file_name_pdf)\n",
        "\n",
        "\n",
        "\n",
        "if __name__ == \"__main__\":\n",
        "    input_pdf = '/content/Research (1).pdf'  # Replace with the path to your input PDF file\n",
        "    output_dir = '/content/ouput'  # Replace with the directory where you want to save the output PDFs\n",
        "\n",
        "    split_pdf(input_pdf, output_dir)\n"
      ],
      "metadata": {
        "id": "78oWXUbSl2Zl"
      },
      "execution_count": 21,
      "outputs": []
    }
  ]
}